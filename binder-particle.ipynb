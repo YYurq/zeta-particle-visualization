import numpy as np
import plotly.graph_objects as go
from mpmath import mp
from sympy import zeta as sympy_zeta
from functools import lru_cache

# Настройки mpmath для высокой точности
mp.dps = 30

# Параметры
T = 50
t = np.linspace(-T, T, 500)
gamma_n = [14.1347, 21.0220, 25.0108]  # Первые нули дзета-функции
k = 1.0  # Коэффициент потенциала
sigma = 0.5  # Ширина гауссианы для волновой функции

# Кэширование zeta для оптимизации
@lru_cache(maxsize=1000)
def cached_zeta(s_real, s_imag):
    try:
        return complex(sympy_zeta(complex(s_real, s_imag)))
    except:
        return 0.0

# Модуль |zeta(1/2 + it)|^2
def zeta_squared(u):
    z = cached_zeta(0.5, u)
    result = z * z.conjugate()
    return float(result.real) if not np.isnan(result) and not np.isinf(result) else 0.0

# Эффективный потенциал
V_eff = -k * np.array([zeta_squared(ti) for ti in t])

# Волновая функция (гауссиана около gamma_n[0])
def wave_function(t, gamma, sigma=0.5):
    return np.exp(-(t - gamma)**2 / (2 * sigma**2)) / (sigma * np.sqrt(2 * np.pi))

# Плотность вероятности
psi = wave_function(t, gamma_n[0], sigma)
psi_squared = psi**2

# Данные для 3D-графика
X = t
Y = psi_squared
Z = V_eff

# Построение 3D-графика
fig = go.Figure(data=[
    go.Scatter3d(
        x=X,
        y=Y,
        z=Z,
        mode='lines',
        line=dict(width=4, color='blue'),
        name='Плотность вероятности частицы'
    ),
    go.Scatter3d(
        x=X,
        y=np.zeros_like(X),
        z=V_eff,
        mode='lines',
        line=dict(width=4, color='red', dash='dash'),
        name='Потенциал V_eff(t)'
    )
])

# Оформление графика
fig.update_layout(
    title='3D-визуализация частицы (плотность вероятности и потенциал)',
    scene=dict(
        xaxis_title='t',
        yaxis_title='|ψ(t)|^2',
        zaxis_title='V_eff(t)',
        xaxis=dict(range=[-T, T]),
        yaxis=dict(range=[0, max(psi_squared) * 1.1]),
        zaxis=dict(range=[min(V_eff) * 1.1, max(V_eff) * 1.1])
    ),
    showlegend=True
)

# Показать график
fig.show()
